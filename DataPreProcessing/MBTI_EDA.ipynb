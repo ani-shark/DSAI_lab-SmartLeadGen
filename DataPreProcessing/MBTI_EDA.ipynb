{
 "cells": [
  {
   "cell_type": "code",
   "execution_count": null,
   "id": "9bf237d7",
   "metadata": {},
   "outputs": [],
   "source": [
    "import pandas as pd\n",
    "import matplotlib.pyplot as plt\n",
    "import seaborn as sns\n",
    "from wordcloud import WordCloud\n",
    "import os"
   ]
  },
  {
   "cell_type": "code",
   "execution_count": null,
   "id": "759aebed",
   "metadata": {},
   "outputs": [],
   "source": [
    "data_file = 'preprocessed_personality_data.csv'\n",
    "output_dir = \"EDA_outputs\"\n",
    "if not os.path.exists(output_dir):\n",
    "    os.makedirs(output_dir, exist_ok = True)\n",
    "\n",
    "try:\n",
    "    df = pd.read_csv(data_file)\n",
    "    print(f'Successfully loaded data from {data_file}, shape: {df.shape}')\n",
    "\n",
    "except FileNotFoundError:\n",
    "    print(f\"{data_file} not found\")"
   ]
  },
  {
   "cell_type": "code",
   "execution_count": null,
   "id": "a1165977",
   "metadata": {},
   "outputs": [],
   "source": [
    "import kagglehub\n",
    "print(\"\\n--- Investigating MBTI Type Distribution from Kaggle ---\")\n",
    "try:\n",
    "    print(\"Downloading Kaggle dataset info...\")\n",
    "    kaggle_dir_path = kagglehub.dataset_download(\"datasnaek/mbti-type\")\n",
    "    kaggle_file_path = os.path.join(kaggle_dir_path, 'mbti_1.csv')\n",
    "    print(f\"Reading Kaggle data from: {kaggle_file_path}\")\n",
    "    \n",
    "    df_kaggle_raw = pd.read_csv(kaggle_file_path)\n",
    "    \n",
    "    print(\"Kaggle dataset loaded successfully.\")\n",
    "\n",
    "    plt.figure(figsize=(18, 8))\n",
    "    sns.countplot(x='type', data=df_kaggle_raw, order=df_kaggle_raw['type'].value_counts().index, palette='mako')\n",
    "    plt.title('Distribution of MBTI Types in the Original Kaggle Dataset', fontsize=16)\n",
    "    plt.xlabel('MBTI Type', fontsize=12)\n",
    "    plt.ylabel('Number of Users', fontsize=12)\n",
    "    plt.xticks(rotation=45)\n",
    "    plt.tight_layout()\n",
    "    diagnostic_plot_path_kaggle = os.path.join(output_dir, 'kaggle_type_distribution.png')\n",
    "    plt.savefig(diagnostic_plot_path_kaggle)\n",
    "    print(f\"Saved diagnostic plot to '{diagnostic_plot_path_kaggle}'\")\n",
    "    plt.show()\n",
    "\n",
    "except FileNotFoundError:\n",
    "    print(f\"Could not find the Kaggle CSV file. Skipping the diagnostic plot for Kaggle.\")\n",
    "    print(\"Please ensure the Kaggle dataset downloaded correctly.\")\n",
    "except Exception as e:\n",
    "    print(f\"An error occurred while analyzing the Kaggle dataset: {e}\")"
   ]
  },
  {
   "cell_type": "code",
   "execution_count": null,
   "id": "f46b4a48",
   "metadata": {},
   "outputs": [],
   "source": [
    "from datasets import load_dataset\n",
    "\n",
    "print(\"\\n--- Investigating Pseudo-MBTI Type Distribution from Hugging Face ---\")\n",
    "try:\n",
    "    def map_big5_to_mbti(row):\n",
    "        \"\"\"Heuristically maps Big Five scores to an MBTI type.\"\"\"\n",
    "        i_e = 'E' if row['E'] > 50 else 'I'\n",
    "        n_s = 'N' if row['O'] > 50 else 'S'\n",
    "        t_f = 'T' if row['A'] < 50 else 'F'\n",
    "        j_p = 'J' if row['C'] > 50 else 'P'\n",
    "        return f\"{i_e}{n_s}{t_f}{j_p}\"\n",
    "\n",
    "    print(\"Loading raw 'pandora-big5' dataset from Hugging Face...\")\n",
    "    ds = load_dataset(\"jingjietan/pandora-big5\")\n",
    "    df_hf_raw = ds['train'].to_pandas()\n",
    "    print(\"Hugging Face dataset loaded successfully.\")\n",
    "\n",
    "    print(\"Generating pseudo-MBTI types from Big Five scores...\")\n",
    "    df_hf_raw['type'] = df_hf_raw.apply(map_big5_to_mbti, axis=1)\n",
    "\n",
    "    plt.figure(figsize=(18, 8))\n",
    "    sns.countplot(x='type', data=df_hf_raw, order=df_hf_raw['type'].value_counts().index, palette='crest')\n",
    "    plt.title('Distribution of Pseudo-MBTI Types in the Hugging Face Dataset', fontsize=16)\n",
    "    plt.xlabel('Pseudo-MBTI Type (from Big Five)', fontsize=12)\n",
    "    plt.ylabel('Number of Entries', fontsize=12)\n",
    "    plt.xticks(rotation=45)\n",
    "    plt.tight_layout()\n",
    "    \n",
    "    diagnostic_plot_path_hf = os.path.join(output_dir, 'huggingface_type_distribution.png')\n",
    "    plt.savefig(diagnostic_plot_path_hf)\n",
    "    print(f\"Saved diagnostic plot to '{diagnostic_plot_path_hf}'\")\n",
    "    plt.show()\n",
    "\n",
    "except Exception as e:\n",
    "    print(f\"An error occurred while analyzing the Hugging Face dataset: {e}\")"
   ]
  },
  {
   "cell_type": "code",
   "execution_count": null,
   "id": "f5b11a1b",
   "metadata": {},
   "outputs": [],
   "source": [
    "print(\"\\n--- Analyzing MBTI Type Distribution ---\")\n",
    "plt.figure(figsize=(18, 8))\n",
    "sns.countplot(x='type', data=df, order=df['type'].value_counts().index, palette='viridis')\n",
    "plt.title('Concatenated aDistribution of the 16 MBTI Personality Types', fontsize=16)\n",
    "plt.xlabel('MBTI Type', fontsize=12)\n",
    "plt.ylabel('Number of Posts', fontsize=12)\n",
    "plt.xticks(rotation=45)\n",
    "plt.tight_layout() # Adjust layout to make room for labels\n",
    "plot_path = os.path.join(output_dir, 'mbti_type_distribution.png')\n",
    "plt.savefig(plot_path)\n",
    "print(f\"Saved plot to '{plot_path}'\")\n",
    "plt.show()"
   ]
  }
 ],
 "metadata": {
  "kernelspec": {
   "display_name": "Python 3",
   "language": "python",
   "name": "python3"
  },
  "language_info": {
   "codemirror_mode": {
    "name": "ipython",
    "version": 3
   },
   "file_extension": ".py",
   "mimetype": "text/x-python",
   "name": "python",
   "nbconvert_exporter": "python",
   "pygments_lexer": "ipython3",
   "version": "3.13.2"
  }
 },
 "nbformat": 4,
 "nbformat_minor": 5
}
